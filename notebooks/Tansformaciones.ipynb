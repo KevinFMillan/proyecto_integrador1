{
 "cells": [
  {
   "cell_type": "code",
   "execution_count": 100,
   "metadata": {},
   "outputs": [],
   "source": [
    "import pandas as pd\n",
    "import ast"
   ]
  },
  {
   "cell_type": "code",
   "execution_count": 101,
   "metadata": {},
   "outputs": [],
   "source": [
    "df_credits = pd.read_csv('../data_original/credits.csv',sep=',')\n",
    "df_movies = pd.read_csv('../data_original/movies_dataset.csv',sep=',',low_memory=False)"
   ]
  },
  {
   "cell_type": "markdown",
   "metadata": {},
   "source": [
    "**************************************** TRANSNFORMACIONES ****************************************"
   ]
  },
  {
   "cell_type": "markdown",
   "metadata": {},
   "source": [
    "6. ELIMINAR LAS COLUMAN QUE NO SERAN UTILIZADAS, video, imdb_id, adult, original_title, poster_path Y homepage"
   ]
  },
  {
   "cell_type": "code",
   "execution_count": 105,
   "metadata": {},
   "outputs": [],
   "source": [
    "df_movies2 = df_movies.drop(['video','imdb_id','adult','original_title','poster_path','homepage'],axis=1) #Crear nuevo dataframe para poder acceder al inicial de ser necesario\\"
   ]
  },
  {
   "cell_type": "markdown",
   "metadata": {},
   "source": [
    "1. DESANIDAR CAMPOS "
   ]
  },
  {
   "cell_type": "code",
   "execution_count": 106,
   "metadata": {},
   "outputs": [],
   "source": [
    "def desanidarDiccionario(df:pd.DataFrame, columna:str):\n",
    "    '''Devuelve en forma de lista cada el valor de todos los \"name\" presentes en el diccionario'''\n",
    "    df = df[columna]\n",
    "    listName = []\n",
    "\n",
    "    for i in df:\n",
    "        try:\n",
    "            conver = ast.literal_eval(i)\n",
    "            listName.append(conver[\"name\"])\n",
    "        except Exception:\n",
    "            listName.append('') #Si no pertenece a ninguna coleccion se deja es blanco\n",
    "\n",
    "    newdict = {\n",
    "        \"name_collection\": listName,\n",
    "        }\n",
    "    df_return = pd.DataFrame(data=newdict) #\n",
    "    return df_return\n",
    "\n",
    "df_movies2['belongs_to_collection'] = desanidarDiccionario(df_movies2, 'belongs_to_collection')"
   ]
  },
  {
   "cell_type": "code",
   "execution_count": 107,
   "metadata": {},
   "outputs": [],
   "source": [
    "def desanidarLista(df:pd.DataFrame, columna:str):\n",
    "    '''Desanida las columas que tiene una lista de diccionarios y devuelve los valores de la clave \"name\" de cada diccionario, el retur se hace en forma de lista'''\n",
    "    df = df[columna]\n",
    "    listName = [] #Se inicializa la lista en la que va almacenada el/los dato para el nuevo df\n",
    "\n",
    "    for i in df:\n",
    "        listTemporal = [] #Lista para almacenar el/los valores de los diccionarios con la clave \"name\"\n",
    "        try:\n",
    "            conver = ast.literal_eval(i)\n",
    "            # print(type(conver),conver, len(conver)) ## hasta aqui ya se que es una lista y tiene 3 diccionarios dentro\n",
    "            for item in range(len(conver)):\n",
    "                listTemporal.append(conver[item]['name']) #Para cada diccionario presente en la lista se almacena el valor de \"name\"\n",
    "        except Exception as e:\n",
    "            listName.append('') #Si el formato no es str se deja en blanco\n",
    "            continue\n",
    "        listName.append(listTemporal)\n",
    "\n",
    "    newdata = {\n",
    "        'name': listName\n",
    "    }\n",
    "\n",
    "    df_return = pd.DataFrame(data=newdata)\n",
    "    return df_return\n",
    "\n",
    "df_movies2['genres'] = desanidarLista(df_movies2,'genres')\n",
    "df_movies2['production_companies'] = desanidarLista(df_movies2,'production_companies')\n",
    "df_movies2['production_countries'] = desanidarLista(df_movies2,'production_countries')"
   ]
  },
  {
   "cell_type": "markdown",
   "metadata": {},
   "source": [
    "2. LOS VALORES NULOS DE LOS CAMPOS revenue, budget DEBEN SER RELLENADOS POR EL NUMERO 0"
   ]
  },
  {
   "cell_type": "code",
   "execution_count": 108,
   "metadata": {},
   "outputs": [],
   "source": [
    "def eliminarNumberNulos(data:pd.DataFrame,columna, tipoDato=0, reemplazo='0'):\n",
    "    '''Devuelve una columna sin nulos o NaN y reemplaza esos vales con el parametro \"reemplazo\"'''\n",
    "    col = data[columna]\n",
    "    try:\n",
    "        col = pd.to_numeric(col, errors='coerce')\n",
    "        col = col.fillna(reemplazo)\n",
    "        if tipoDato != 0:\n",
    "            col = col.astype(tipoDato)\n",
    "    except Exception as e:\n",
    "        pass\n",
    "    return col\n",
    "\n",
    "df_movies2['budget'] = eliminarNumberNulos(df_movies2,'budget',int)\n",
    "df_movies2['revenue'] = eliminarNumberNulos(df_movies2,'revenue',int)"
   ]
  },
  {
   "cell_type": "markdown",
   "metadata": {},
   "source": [
    "3. LOS VALORES NULOS DEL CAMPO release_date DEBEN ELIMINARSE"
   ]
  },
  {
   "cell_type": "code",
   "execution_count": 109,
   "metadata": {},
   "outputs": [],
   "source": [
    "df_movies2 = df_movies2.dropna(subset=['release_date']) #Al ser una columna de info relevante se eliminan las filas con nulos en la columna\n",
    "for i in df_movies2['release_date']: #Si no obtenemos ninguna salida quiere decir que los valores dela columna se convirtieron correctamente\n",
    "    if not isinstance(i,str):\n",
    "        print(i,type(i))"
   ]
  },
  {
   "cell_type": "markdown",
   "metadata": {},
   "source": [
    "4. DE HABER FECHAS, DEBERAN TENER EL FORMATO \"AAA-mm-dd\", ADEMAS DEBERAN CREAR LA COLUMNA release_year DONDE EXTRAERAN EL AÑO DE LA FECHA DE ESTRENO"
   ]
  },
  {
   "cell_type": "code",
   "execution_count": 110,
   "metadata": {},
   "outputs": [],
   "source": [
    "df_movies2['release_date'] = pd.to_datetime(df_movies2['release_date'], errors='coerce') #Se convierten los valores de tipo str a timestamp, los errores de cambian por nan\n",
    "indiciesNa = df_movies2[df_movies2['release_date'].isna()].index #Se guardan los indices de los valores nulos\n",
    "df_movies2 = df_movies2.drop(indiciesNa) #Se eliminan las filas que tienen nulos en la columna \"release_date\"\n",
    "df_movies2['release_year'] = df_movies2['release_date'].dt.year.astype(int) #Se extrae el year en tipo int para crea la nueva columna cono los datos extraidos y convertidos"
   ]
  },
  {
   "cell_type": "markdown",
   "metadata": {},
   "source": [
    "5. CREAR LA COLUMNA CON EL RETORNO DE INVERSION, LLAMADA return CON LOS CAMPOS revenue Y budget, DIVIDIENDO ESTAS DOL ULTIMAS revenue/budget, CUANDO NO HAY DATOS DISPONIBLES PARA CALCULARLO, DEBERAN TOMAR EL VALOR 0"
   ]
  },
  {
   "cell_type": "code",
   "execution_count": 111,
   "metadata": {},
   "outputs": [],
   "source": [
    "def calcularReturn(col1, col2):\n",
    "    if col1 > 0 and col2 > 0: #Solo devuelve el calculo si ambos valores son positivos y mayor que 0\n",
    "        return round(col1 / col2, 4)\n",
    "    else:\n",
    "        return 0 #Retorna 0 si alguno de los 2 datos no esta disponible o es menor a 0\n",
    "\n",
    "df_movies2['return'] = df_movies2.apply(lambda row: calcularReturn(row['revenue'],row['budget']),axis=1)"
   ]
  },
  {
   "cell_type": "markdown",
   "metadata": {},
   "source": [
    "CONSIDERACIONES FINALES PERSONALES"
   ]
  },
  {
   "cell_type": "code",
   "execution_count": 112,
   "metadata": {},
   "outputs": [],
   "source": [
    "#Se eliminan las columnas que no se van a usar\n",
    "df_movies2 = df_movies2.drop(['production_countries','spoken_languages','status','runtime','original_language'],axis=1)\n",
    "\n",
    "#Se cambia el tipo de dato o uno en el que se sienta mas a gusto manipulando\n",
    "df_movies2['popularity'] = eliminarNumberNulos(df_movies2,'popularity',float)\n",
    "\n",
    "#Se verifica que no existan duplicados en columnas relevante\n",
    "df_movies2['id'] = df_movies2['id'].drop_duplicates()\n",
    "df_movies2['id'] = eliminarNumberNulos(df_movies2,'id',int)\n",
    "\n",
    "#Se elimina otra columna que no sera usada en la API o el ML\n",
    "df_movies2 = df_movies2.drop(['tagline'], axis=1)\n",
    "\n",
    "#Filtramos solo las peliculas lanzadas despues del anio 1980\n",
    "# df_movies2 = df_movies2[df_movies2['release_year']>1980]\n",
    "\n",
    "#para evitar algun tipo de problema con el ML eliminamos los nulos \n",
    "df_movies2 = df_movies2.dropna()\n",
    "\n",
    "#Si se diera el caso, se resetean los indices\n",
    "df_movies2 = df_movies2.reset_index(drop=True)"
   ]
  },
  {
   "cell_type": "code",
   "execution_count": 113,
   "metadata": {},
   "outputs": [],
   "source": [
    "df_movies2.to_parquet('../data/dataset_movies.parquet',index=False)"
   ]
  },
  {
   "cell_type": "code",
   "execution_count": 114,
   "metadata": {},
   "outputs": [
    {
     "name": "stdout",
     "output_type": "stream",
     "text": [
      "<class 'pandas.core.frame.DataFrame'>\n",
      "RangeIndex: 44435 entries, 0 to 44434\n",
      "Data columns (total 14 columns):\n",
      " #   Column                 Non-Null Count  Dtype         \n",
      "---  ------                 --------------  -----         \n",
      " 0   belongs_to_collection  44435 non-null  object        \n",
      " 1   budget                 44435 non-null  int32         \n",
      " 2   genres                 44435 non-null  object        \n",
      " 3   id                     44435 non-null  int32         \n",
      " 4   overview               44435 non-null  object        \n",
      " 5   popularity             44435 non-null  float64       \n",
      " 6   production_companies   44435 non-null  object        \n",
      " 7   release_date           44435 non-null  datetime64[ns]\n",
      " 8   revenue                44435 non-null  object        \n",
      " 9   title                  44435 non-null  object        \n",
      " 10  vote_average           44435 non-null  float64       \n",
      " 11  vote_count             44435 non-null  float64       \n",
      " 12  release_year           44435 non-null  int32         \n",
      " 13  return                 44435 non-null  float64       \n",
      "dtypes: datetime64[ns](1), float64(4), int32(3), object(6)\n",
      "memory usage: 4.2+ MB\n"
     ]
    }
   ],
   "source": [
    "df_movies2.info()"
   ]
  }
 ],
 "metadata": {
  "kernelspec": {
   "display_name": "Python 3",
   "language": "python",
   "name": "python3"
  },
  "language_info": {
   "codemirror_mode": {
    "name": "ipython",
    "version": 3
   },
   "file_extension": ".py",
   "mimetype": "text/x-python",
   "name": "python",
   "nbconvert_exporter": "python",
   "pygments_lexer": "ipython3",
   "version": "3.11.4"
  }
 },
 "nbformat": 4,
 "nbformat_minor": 2
}
